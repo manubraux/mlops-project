{
 "cells": [
  {
   "cell_type": "markdown",
   "id": "c8f54442-3c8e-4ffc-964c-28d26b668e3a",
   "metadata": {},
   "source": [
    "# Cas a Travailler\n",
    "Dans l'industrie pharmaceutique, les entreprises cherchent à optimiser les essais cliniques en identifiant plus rapidement les patients qui pourraient répondre positivement à un médicament spécifique. En utilisant les données des tests et essais, il faut créer un modèle de machine learning qui pourrait prédire si un nouveau médicament va être approuvé ou pas.\n",
    "\n",
    "## Objectif\n",
    "Développer un pipeline MLOps pour créer un modèle de prédiction qui estime l'efficacité d'un médicament pour différents profils de patients. Il faut passer par toutes les étapes du cycle MLOps, y compris la préparation des données, l'entraînement du modèle, la mise en production, et l'automatisation de la surveillance et des mises à jour.\n",
    "\n",
    "## Données à utiliser\n",
    "Nous allons utiliser les données de [https://tdcommons.ai/multi_pred_tasks/trialoutcome](https://tdcommons.ai/multi_pred_tasks/trialoutcome) de TDC commons.\n",
    "\n",
    "## Cycle de ML\n",
    "\n",
    "![Cycle de vie ML](./images/cycle-mlops.png)\n",
    "\n",
    "## Livrables attendus\n",
    "\n",
    "Dans un notebook jupyter :\n",
    "1. Descriptions des taches du cycle de MLOps\n",
    "2. Sélection et justification du modèle de ML\n",
    "3. Implémentation du pipeline avec MLFlow\n"
   ]
  }
 ],
 "metadata": {
  "kernelspec": {
   "display_name": "Python 3 (ipykernel)",
   "language": "python",
   "name": "python3"
  },
  "language_info": {
   "codemirror_mode": {
    "name": "ipython",
    "version": 3
   },
   "file_extension": ".py",
   "mimetype": "text/x-python",
   "name": "python",
   "nbconvert_exporter": "python",
   "pygments_lexer": "ipython3",
   "version": "3.11.10"
  }
 },
 "nbformat": 4,
 "nbformat_minor": 5
}
