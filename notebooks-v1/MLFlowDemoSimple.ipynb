{
 "cells": [
  {
   "cell_type": "code",
   "execution_count": 9,
   "id": "638fbc64-d2a2-4fad-8187-5c2451bfea7a",
   "metadata": {},
   "outputs": [
    {
     "name": "stdout",
     "output_type": "stream",
     "text": [
      "Requirement already satisfied: psutil in /opt/conda/lib/python3.11/site-packages (6.0.0)\n",
      "Collecting pynvml\n",
      "  Downloading pynvml-12.0.0-py3-none-any.whl.metadata (5.4 kB)\n",
      "Collecting nvidia-ml-py<13.0.0a0,>=12.0.0 (from pynvml)\n",
      "  Downloading nvidia_ml_py-12.570.86-py3-none-any.whl.metadata (8.7 kB)\n",
      "Downloading pynvml-12.0.0-py3-none-any.whl (26 kB)\n",
      "Downloading nvidia_ml_py-12.570.86-py3-none-any.whl (44 kB)\n",
      "Installing collected packages: nvidia-ml-py, pynvml\n",
      "Successfully installed nvidia-ml-py-12.570.86 pynvml-12.0.0\n"
     ]
    }
   ],
   "source": [
    "!pip install psutil pynvml"
   ]
  },
  {
   "cell_type": "code",
   "execution_count": null,
   "id": "b7c57d79-c191-44e5-9f22-8a101a355068",
   "metadata": {},
   "outputs": [],
   "source": [
    "%env MLFLOW_TRACKING_SERVER_CERT_PATH=/home/jovyan/work/cert/ca.pem\n",
    "%env MLFLOW_TRACKING_URI=https://public-tracking.mlflow-e00v0qa5n6ywddys75.backbone-e00m8trsn6mra9a7kk.msp.eu-north1.nebius.cloud\n",
    "%env MLFLOW_TRACKING_USERNAME=mlops_course_admin\n",
    "%env MLFLOW_TRACKING_PASSWORD=NAv2VcZafgku5D\n",
    "%env MLFLOW_ENABLE_SYSTEM_METRICS_LOGGING=true"
   ]
  },
  {
   "cell_type": "code",
   "execution_count": null,
   "id": "a02480e8-c36f-4bd5-b18f-5308491cd438",
   "metadata": {},
   "outputs": [],
   "source": [
    "import mlflow\n",
    "import numpy as np\n",
    "from sklearn.model_selection import train_test_split\n",
    "from sklearn.linear_model import LinearRegression\n",
    "\n",
    "np.random.seed(42)\n",
    "X = np.random.rand(100, 1)\n",
    "y = 3.5 * X.squeeze() + np.random.randn(100) * 0.5\n",
    "X_train, X_test, y_train, y_test = train_test_split(\n",
    "    X, y, test_size=0.2, random_state=42)\n",
    "\n",
    "mlflow.autolog()\n",
    "\n",
    "model = LinearRegression()\n",
    "model.fit(X_train, y_train)"
   ]
  }
 ],
 "metadata": {
  "kernelspec": {
   "display_name": "Python 3 (ipykernel)",
   "language": "python",
   "name": "python3"
  },
  "language_info": {
   "codemirror_mode": {
    "name": "ipython",
    "version": 3
   },
   "file_extension": ".py",
   "mimetype": "text/x-python",
   "name": "python",
   "nbconvert_exporter": "python",
   "pygments_lexer": "ipython3",
   "version": "3.11.10"
  }
 },
 "nbformat": 4,
 "nbformat_minor": 5
}
